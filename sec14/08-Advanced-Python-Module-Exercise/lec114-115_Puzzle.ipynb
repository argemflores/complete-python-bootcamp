{
 "cells": [
  {
   "cell_type": "code",
   "execution_count": 1,
   "metadata": {},
   "outputs": [
    {
     "data": {
      "text/plain": [
       "'/Users/argemflores/Workspace/complete-python-bootcamp/sec14/08-Advanced-Python-Module-Exercise'"
      ]
     },
     "execution_count": 1,
     "metadata": {},
     "output_type": "execute_result"
    }
   ],
   "source": [
    "# print current working directory (os.getcwd())\n",
    "pwd"
   ]
  },
  {
   "cell_type": "code",
   "execution_count": 4,
   "metadata": {},
   "outputs": [
    {
     "name": "stdout",
     "output_type": "stream",
     "text": [
      "07-Advanced-Modules-Exercise-Puzzle.ipynb\r\n",
      "08-Advanced-Modules-Exercise-Solutions.ipynb\r\n",
      "\u001b[1m\u001b[36mextracted_content\u001b[m\u001b[m/\r\n",
      "lec114-115_Puzzle.ipynb\r\n",
      "unzip_me_for_instructions.zip\r\n"
     ]
    }
   ],
   "source": [
    "# list files from the current directory (os.listdir())\n",
    "ls"
   ]
  },
  {
   "cell_type": "code",
   "execution_count": 2,
   "metadata": {
    "scrolled": true
   },
   "outputs": [
    {
     "name": "stdout",
     "output_type": "stream",
     "text": [
      "Good work on unzipping the file!\n",
      "You should now see 5 folders, each with a lot of random .txt files.\n",
      "Within one of these text files is a telephone number formated ###-###-#### \n",
      "Use the Python os module and regular expressions to iterate through each file, open it, and search for a telephone number.\n",
      "Good luck!\n"
     ]
    }
   ],
   "source": [
    "with open('extracted_content/Instructions.txt', 'r') as file:\n",
    "    print(file.read())"
   ]
  },
  {
   "cell_type": "code",
   "execution_count": 5,
   "metadata": {},
   "outputs": [],
   "source": [
    "import zipfile\n",
    "\n",
    "# alternatively, you can use shutil.unpack_archive(filename, '', 'zip') to extract the contents of the zip file"
   ]
  },
  {
   "cell_type": "code",
   "execution_count": 8,
   "metadata": {},
   "outputs": [],
   "source": [
    "# prepare zipped instructions file\n",
    "puzzle_zip = zipfile.ZipFile(file='unzip_me_for_instructions.zip', mode='r')"
   ]
  },
  {
   "cell_type": "code",
   "execution_count": 11,
   "metadata": {},
   "outputs": [],
   "source": [
    "# extract all files from the zipped file\n",
    "puzzle_zip.extractall()"
   ]
  },
  {
   "cell_type": "code",
   "execution_count": 12,
   "metadata": {
    "scrolled": true
   },
   "outputs": [
    {
     "name": "stdout",
     "output_type": "stream",
     "text": [
      "07-Advanced-Modules-Exercise-Puzzle.ipynb\r\n",
      "08-Advanced-Modules-Exercise-Solutions.ipynb\r\n",
      "\u001b[1m\u001b[36mextracted_content\u001b[m\u001b[m/\r\n",
      "lec114-115_Puzzle.ipynb\r\n",
      "unzip_me_for_instructions.zip\r\n"
     ]
    }
   ],
   "source": [
    "ls"
   ]
  },
  {
   "cell_type": "code",
   "execution_count": 28,
   "metadata": {},
   "outputs": [
    {
     "name": "stdout",
     "output_type": "stream",
     "text": [
      "Congrats! Phone number found in file extracted_content/Four/EMTGPSXQEJX.txt line#1: 719-266-2837\n"
     ]
    }
   ],
   "source": [
    "# import modules\n",
    "import os\n",
    "import re\n",
    "from pathlib import Path\n",
    "\n",
    "# list all child items from the extracted_content. folder\n",
    "for folder, subfolder, files in os.walk('extracted_content/'):\n",
    "    # read each file from all folders\n",
    "    for filename in files:\n",
    "        # open each file for reading\n",
    "        with open(Path(folder) / filename, 'r') as file:\n",
    "            # go through each line of the file\n",
    "            for line, text in enumerate(file, 1):\n",
    "                # check for any phone number with format ###-###-#### using regex\n",
    "                phone_number = re.search(r'\\d{3}-\\d{3}-\\d{4}', text)\n",
    "                \n",
    "                # phone number is found\n",
    "                if phone_number != None:\n",
    "                    # print filename and line number containing the phone number\n",
    "                    print(f'Congrats! Phone number found in file {folder}/{filename} line#{line}: {phone_number.group()}')"
   ]
  },
  {
   "cell_type": "code",
   "execution_count": null,
   "metadata": {},
   "outputs": [],
   "source": []
  }
 ],
 "metadata": {
  "kernelspec": {
   "display_name": "Python 3",
   "language": "python",
   "name": "python3"
  },
  "language_info": {
   "codemirror_mode": {
    "name": "ipython",
    "version": 3
   },
   "file_extension": ".py",
   "mimetype": "text/x-python",
   "name": "python",
   "nbconvert_exporter": "python",
   "pygments_lexer": "ipython3",
   "version": "3.8.5"
  }
 },
 "nbformat": 4,
 "nbformat_minor": 4
}
