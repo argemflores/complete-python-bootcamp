{
 "cells": [
  {
   "cell_type": "code",
   "execution_count": 1,
   "metadata": {},
   "outputs": [],
   "source": [
    "\"\"\"\n",
    "Person: playing individual, can be the computer dealer or the human player\n",
    "\"\"\"\n",
    "class Person():\n",
    "    \"\"\"Initialize object\"\"\"\n",
    "    def __init__(self, name):\n",
    "        # name of the person\n",
    "        self.name = name\n",
    "        \n",
    "        # sum of cards the person has for a round (default: 0 because hand is empty)\n",
    "        self.value = 0\n",
    "        \n",
    "        # cards the person has in their hand for a round (default: empty list)\n",
    "        self.hand = []\n",
    "    \n",
    "    \"\"\"Draw a card from the deck then add to hand and compute hand value\"\"\"\n",
    "    def hit(self):\n",
    "        pass\n",
    "    \n",
    "    \"\"\"Lock in hand and value for the round\"\"\"\n",
    "    def stay(self):\n",
    "        pass\n",
    "    \n",
    "    def __str__(self):\n",
    "        return f\"{self.name}'s hand value is {self.value}\"\n"
   ]
  },
  {
   "cell_type": "code",
   "execution_count": 4,
   "metadata": {},
   "outputs": [],
   "source": [
    "from Person import Person\n",
    "\n",
    "\"\"\"\n",
    "Dealer (Person): the computer dealer\n",
    "\"\"\"\n",
    "class Dealer(Person):\n",
    "    \"\"\"Initialize object\"\"\"\n",
    "    def __init__(self, name='Dealer'):\n",
    "        # name of the dealer (default: 'Dealer')\n",
    "        Person.__init__(self, name)\n"
   ]
  },
  {
   "cell_type": "code",
   "execution_count": 5,
   "metadata": {},
   "outputs": [],
   "source": [
    "dealer = Dealer()"
   ]
  },
  {
   "cell_type": "code",
   "execution_count": 6,
   "metadata": {},
   "outputs": [
    {
     "name": "stdout",
     "output_type": "stream",
     "text": [
      "Dealer's hand value is 0\n"
     ]
    }
   ],
   "source": [
    "print(dealer)"
   ]
  },
  {
   "cell_type": "code",
   "execution_count": null,
   "metadata": {},
   "outputs": [],
   "source": []
  }
 ],
 "metadata": {
  "kernelspec": {
   "display_name": "Python 3",
   "language": "python",
   "name": "python3"
  },
  "language_info": {
   "codemirror_mode": {
    "name": "ipython",
    "version": 3
   },
   "file_extension": ".py",
   "mimetype": "text/x-python",
   "name": "python",
   "nbconvert_exporter": "python",
   "pygments_lexer": "ipython3",
   "version": "3.8.5"
  }
 },
 "nbformat": 4,
 "nbformat_minor": 4
}
