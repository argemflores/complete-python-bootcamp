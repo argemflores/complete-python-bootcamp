{
 "cells": [
  {
   "cell_type": "code",
   "execution_count": 11,
   "metadata": {},
   "outputs": [],
   "source": [
    "\"\"\"\n",
    "Person: playing individual, can be the computer dealer or the human player\n",
    "\"\"\"\n",
    "class Person():\n",
    "    \"\"\"Initialize object\"\"\"\n",
    "    def __init__(self, name):\n",
    "        # name of the person\n",
    "        self.name = name\n",
    "        \n",
    "        # sum of cards the person has for a round (default: 0 because hand is empty)\n",
    "        self.value = 0\n",
    "        \n",
    "        # cards the person has in their hand for a round (default: empty list)\n",
    "        self.hand = []\n",
    "    \n",
    "    \"\"\"Draw a card from the deck then add to hand and compute hand value\"\"\"\n",
    "    def hit(self):\n",
    "        pass\n",
    "    \n",
    "    \"\"\"Lock in hand and value for the round\"\"\"\n",
    "    def stay(self):\n",
    "        pass\n",
    "    \n",
    "    \"\"\"Return person's name and hand value\"\"\"\n",
    "    def __str__(self):\n",
    "        return \"{} | card/s: {} | value: {}\".format(self.name, len(self), self.value)\n",
    "    \n",
    "    \"\"\"Return person's no. of cards in hand\"\"\"\n",
    "    def __len__(self):\n",
    "        return len(self.hand)\n"
   ]
  },
  {
   "cell_type": "code",
   "execution_count": 12,
   "metadata": {},
   "outputs": [],
   "source": [
    "\"\"\"\n",
    "Dealer (Person): the computer dealer\n",
    "\"\"\"\n",
    "class Dealer(Person):\n",
    "    \"\"\"Initialize object\"\"\"\n",
    "    def __init__(self, name='Dealer'):\n",
    "        # initialize Dealer as Person\n",
    "        Person.__init__(self, name)\n"
   ]
  },
  {
   "cell_type": "code",
   "execution_count": 42,
   "metadata": {},
   "outputs": [],
   "source": [
    "\"\"\"\n",
    "Player (Person): the human player\n",
    "\"\"\"\n",
    "class Player(Person):\n",
    "    \"\"\"Initialize object\"\"\"\n",
    "    def __init__(self, name='Player', bankroll=0.0):\n",
    "        # name of the player (default: 'Player')\n",
    "        self.name = name\n",
    "        \n",
    "        # amount of credits the player has (default: 0.0)\n",
    "        self.bankroll = bankroll\n",
    "        \n",
    "        # amount of credits the player is waging for the round (default: 0.0)\n",
    "        self.bet = 0.0\n",
    "        \n",
    "        # initialize Player as Person\n",
    "        Person.__init__(self, name)\n",
    "    \n",
    "    \"\"\"Ask player the amount to bet for the round\"\"\"\n",
    "    def wager(self):\n",
    "        # check bankroll if not empty\n",
    "        if self.bankroll > 0:\n",
    "            # bankroll has enough amount\n",
    "            \n",
    "            # continue asking player until right amount is bet\n",
    "            while True:\n",
    "                # ask player their bet\n",
    "                bet = float(input(\"Place your bet (bankroll: {}): \".format(self.bankroll)))\n",
    "                \n",
    "                # check bankroll limits\n",
    "                if bet > self.bankroll:\n",
    "                    # bet must be within bankroll amount\n",
    "                    print(\"Bet must not exceed bankroll\")\n",
    "                elif bet < 1:\n",
    "                    # bet must not be less than 1\n",
    "                    print(\"Bet must not be less than 1\")\n",
    "                else:\n",
    "                    # place in bet, subtract from bankroll\n",
    "                    self.bankroll -= bet\n",
    "                    self.bet = bet\n",
    "                    print(\"Bet placed: {} | Bankroll updated: {}\".format(bet, self.bankroll))\n",
    "                    break\n",
    "        else:\n",
    "            # do not ask player since bankroll is not enough\n",
    "            print(\"Bankroll not enough\")\n",
    "    \n",
    "    \"\"\"Ask player to choose the value of the Ace card for their hand (1 or 11)\"\"\"\n",
    "    def choose_ace_value(self, card):\n",
    "        # prepare prompt and value to ask player\n",
    "        prompt = \"Choose Ace card value ({}): \".format(\" or \".join([str(value) for value in card.value]))\n",
    "        value = 0\n",
    "        \n",
    "        # continue asking player until correct value is entered\n",
    "        while True:\n",
    "            # check entered card value\n",
    "            if value not in card.value:\n",
    "                # ask again if entered value is incorrect\n",
    "                value = int(input(prompt))\n",
    "            else:\n",
    "                # correct value\n",
    "                break\n",
    "        \n",
    "        # return chosen value\n",
    "        return value\n",
    "    \n",
    "    \"\"\"Return details about the player\"\"\"\n",
    "    def __str__(self):\n",
    "        return Person.__str__(self) + \" | bankroll: {} | bet: {}\".format(self.bankroll, self.bet)\n"
   ]
  },
  {
   "cell_type": "code",
   "execution_count": 43,
   "metadata": {},
   "outputs": [],
   "source": [
    "\"\"\"\n",
    "Card: playing card in a normal deck\n",
    "\"\"\"\n",
    "\n",
    "class Card():\n",
    "    \"\"\"Class attributes\"\"\"\n",
    "    suits = ('Hearts', 'Diamonds', 'Spades', 'Clubs')\n",
    "    ranks = ('Two', 'Three', 'Four', 'Five', 'Six', 'Seven', 'Eight', 'Nine', 'Ten', 'Jack', 'Queen', 'King', 'Ace')\n",
    "    values = {'Two': 2, 'Three': 3, 'Four': 4, 'Five': 5, 'Six': 6, 'Seven': 7, 'Eight': 8, 'Nine': 9, 'Ten': 10, 'Jack': 10, 'Queen': 10, 'King': 10, 'Ace': [1, 11]}\n",
    "    \n",
    "    \"\"\"Initialize object\"\"\"\n",
    "    def __init__(self, suit, rank, value):\n",
    "        # hearts, diamonds, spades, clubs\n",
    "        self.suit = suit\n",
    "        \n",
    "        # 2, 3, ..., 9, 10, Jack, Queen, King, Ace\n",
    "        self.rank = rank\n",
    "        \n",
    "        # numeric value of a card; can be an integer or array (for Ace)\n",
    "        # 2 to 10 count as their face value\n",
    "        # J, Q, K count as 10\n",
    "        # Ace counts as 1 or 11 depending on the player's choice\n",
    "        self.value = value\n",
    "    \n",
    "    \"\"\"Return details about the card\"\"\"\n",
    "    def __str__(self):\n",
    "        return \"{} of {}\".format(self.rank, self.suit)\n"
   ]
  },
  {
   "cell_type": "code",
   "execution_count": 30,
   "metadata": {},
   "outputs": [],
   "source": [
    "\"\"\"\n",
    "Deck: normal collection of 52 cards\n",
    "\"\"\"\n",
    "class Deck():\n",
    "    \"\"\"Initialize class\"\"\"\n",
    "    def __init__(self):\n",
    "        # list of all 52 cards in a normal deck\n",
    "        self.cards = []\n",
    "        \n",
    "        # fill up deck with the basic 52 cards\n",
    "        for suit in Card.suits:\n",
    "            for rank in Card.ranks:\n",
    "                card = Card(suit, rank, Card.values[rank])\n",
    "                self.cards.append(card)\n",
    "    \n",
    "    \"\"\"Draw the top card from the deck\"\"\"\n",
    "    def deal_one(self):\n",
    "        return self.cards.pop(-1)\n",
    "    \n",
    "    \"\"\"Return details about the deck\"\"\"\n",
    "    def __str__(self):\n",
    "        return \"{} card/s in deck\".format(len(self.cards))\n",
    "    \n",
    "    \"\"\"Return the total number of cards left in the deck\"\"\"\n",
    "    def __len__(self):\n",
    "        return len(self.cards)\n"
   ]
  },
  {
   "cell_type": "code",
   "execution_count": 44,
   "metadata": {},
   "outputs": [],
   "source": [
    "player = Player(bankroll=100)"
   ]
  },
  {
   "cell_type": "code",
   "execution_count": 45,
   "metadata": {},
   "outputs": [
    {
     "name": "stdout",
     "output_type": "stream",
     "text": [
      "Ace of Diamonds\n"
     ]
    }
   ],
   "source": [
    "print(card)"
   ]
  },
  {
   "cell_type": "code",
   "execution_count": 46,
   "metadata": {},
   "outputs": [
    {
     "name": "stdout",
     "output_type": "stream",
     "text": [
      "Chosen value incorrect\n",
      "Choose Ace card value (1 or 11): 1\n"
     ]
    },
    {
     "data": {
      "text/plain": [
       "1"
      ]
     },
     "execution_count": 46,
     "metadata": {},
     "output_type": "execute_result"
    }
   ],
   "source": [
    "player.choose_ace_value(card)"
   ]
  },
  {
   "cell_type": "code",
   "execution_count": null,
   "metadata": {},
   "outputs": [],
   "source": []
  }
 ],
 "metadata": {
  "kernelspec": {
   "display_name": "Python 3",
   "language": "python",
   "name": "python3"
  },
  "language_info": {
   "codemirror_mode": {
    "name": "ipython",
    "version": 3
   },
   "file_extension": ".py",
   "mimetype": "text/x-python",
   "name": "python",
   "nbconvert_exporter": "python",
   "pygments_lexer": "ipython3",
   "version": "3.8.5"
  }
 },
 "nbformat": 4,
 "nbformat_minor": 4
}
