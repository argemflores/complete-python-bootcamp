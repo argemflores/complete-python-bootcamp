{
 "cells": [
  {
   "cell_type": "code",
   "execution_count": 1,
   "metadata": {},
   "outputs": [],
   "source": [
    "# define a sample list of numbers\n",
    "example = [1, 2, 3, 4, 5, 6, 7]"
   ]
  },
  {
   "cell_type": "code",
   "execution_count": 2,
   "metadata": {},
   "outputs": [],
   "source": [
    "# import shuffle function\n",
    "from random import shuffle"
   ]
  },
  {
   "cell_type": "code",
   "execution_count": 3,
   "metadata": {},
   "outputs": [],
   "source": [
    "# shuffle the numbers in place (no returned list)\n",
    "shuffle(example)"
   ]
  },
  {
   "cell_type": "code",
   "execution_count": 4,
   "metadata": {},
   "outputs": [
    {
     "data": {
      "text/plain": [
       "[2, 3, 4, 5, 1, 7, 6]"
      ]
     },
     "execution_count": 4,
     "metadata": {},
     "output_type": "execute_result"
    }
   ],
   "source": [
    "# see shuffled numbers in the list\n",
    "example"
   ]
  },
  {
   "cell_type": "code",
   "execution_count": 5,
   "metadata": {},
   "outputs": [],
   "source": [
    "# no return values\n",
    "result = shuffle(example)"
   ]
  },
  {
   "cell_type": "code",
   "execution_count": 6,
   "metadata": {},
   "outputs": [],
   "source": [
    "result"
   ]
  },
  {
   "cell_type": "code",
   "execution_count": 7,
   "metadata": {},
   "outputs": [],
   "source": [
    "# define a function that returns the new list after it has been shuffled\n",
    "def shuffle_list(my_list):\n",
    "    shuffle(my_list)\n",
    "    return my_list"
   ]
  },
  {
   "cell_type": "code",
   "execution_count": 8,
   "metadata": {},
   "outputs": [],
   "source": [
    "# this allows saving the result to a variable\n",
    "result = shuffle_list(example)"
   ]
  },
  {
   "cell_type": "code",
   "execution_count": 9,
   "metadata": {},
   "outputs": [
    {
     "data": {
      "text/plain": [
       "[3, 6, 4, 1, 7, 5, 2]"
      ]
     },
     "execution_count": 9,
     "metadata": {},
     "output_type": "execute_result"
    }
   ],
   "source": [
    "result"
   ]
  },
  {
   "cell_type": "code",
   "execution_count": 18,
   "metadata": {},
   "outputs": [],
   "source": [
    "# define the list of cups with the stone inside (big letter O)\n",
    "my_list = [' ', 'O', ' ']"
   ]
  },
  {
   "cell_type": "code",
   "execution_count": 19,
   "metadata": {},
   "outputs": [
    {
     "data": {
      "text/plain": [
       "[' ', ' ', 'O']"
      ]
     },
     "execution_count": 19,
     "metadata": {},
     "output_type": "execute_result"
    }
   ],
   "source": [
    "# shuffle the list, just to check it works\n",
    "shuffle_list(my_list)"
   ]
  },
  {
   "cell_type": "code",
   "execution_count": 15,
   "metadata": {},
   "outputs": [],
   "source": [
    "# get the guess from the player where the stone might be\n",
    "def player_guess():\n",
    "    guess = ''\n",
    "    \n",
    "    # prompt user until they input the correct index position from 0, 1, or 2\n",
    "    while guess not in ['0', '1', '2']:\n",
    "        guess = input('Pick a number 0, 1, or 2: ')\n",
    "    \n",
    "    return int(guess)"
   ]
  },
  {
   "cell_type": "code",
   "execution_count": 13,
   "metadata": {},
   "outputs": [
    {
     "name": "stdout",
     "output_type": "stream",
     "text": [
      "Pick a number 0, 1, or 2:x\n",
      "Pick a number 0, 1, or 2:1\n"
     ]
    },
    {
     "data": {
      "text/plain": [
       "1"
      ]
     },
     "execution_count": 13,
     "metadata": {},
     "output_type": "execute_result"
    }
   ],
   "source": [
    "# check if the player guess function works\n",
    "player_guess()"
   ]
  },
  {
   "cell_type": "code",
   "execution_count": 16,
   "metadata": {},
   "outputs": [
    {
     "name": "stdout",
     "output_type": "stream",
     "text": [
      "Pick a number 0, 1, or 2: 2\n"
     ]
    }
   ],
   "source": [
    "# save the guess to a variable\n",
    "my_index = player_guess()"
   ]
  },
  {
   "cell_type": "code",
   "execution_count": 21,
   "metadata": {},
   "outputs": [],
   "source": [
    "# check the guess of the player from the randomly placed stone in the cups\n",
    "def check_guess(my_list, guess):\n",
    "    # if the guess is correct, print Correct! and the list\n",
    "    if my_list[guess] == 'O':\n",
    "        print('Correct!')\n",
    "        print(my_list)\n",
    "    else: # if the guess is wrong, print Wrong guess! and the list\n",
    "        print('Wrong guess!')\n",
    "        print(my_list)"
   ]
  },
  {
   "cell_type": "code",
   "execution_count": 23,
   "metadata": {},
   "outputs": [
    {
     "name": "stdout",
     "output_type": "stream",
     "text": [
      "Pick a number 0, 1, or 2: 1\n",
      "Correct!\n",
      "[' ', 'O', ' ']\n"
     ]
    }
   ],
   "source": [
    "# try it out!\n",
    "\n",
    "# initial list\n",
    "my_list = [' ', 'O', ' ']\n",
    "\n",
    "# shuffle list\n",
    "mixed_list = shuffle_list(my_list)\n",
    "\n",
    "# user guess\n",
    "guess = player_guess()\n",
    "\n",
    "# check guess\n",
    "check_guess(mixed_list, guess)"
   ]
  },
  {
   "cell_type": "code",
   "execution_count": 24,
   "metadata": {},
   "outputs": [
    {
     "name": "stdout",
     "output_type": "stream",
     "text": [
      "Pick a number 0, 1, or 2: 2\n",
      "Wrong guess!\n",
      "['O', ' ', ' ']\n"
     ]
    }
   ],
   "source": [
    "# initial list\n",
    "my_list = [' ', 'O', ' ']\n",
    "\n",
    "# shuffle list\n",
    "mixed_list = shuffle_list(my_list)\n",
    "\n",
    "# user guess\n",
    "guess = player_guess()\n",
    "\n",
    "# check guess\n",
    "check_guess(mixed_list, guess)"
   ]
  },
  {
   "cell_type": "code",
   "execution_count": null,
   "metadata": {},
   "outputs": [],
   "source": []
  }
 ],
 "metadata": {
  "kernelspec": {
   "display_name": "Python 3",
   "language": "python",
   "name": "python3"
  },
  "language_info": {
   "codemirror_mode": {
    "name": "ipython",
    "version": 3
   },
   "file_extension": ".py",
   "mimetype": "text/x-python",
   "name": "python",
   "nbconvert_exporter": "python",
   "pygments_lexer": "ipython3",
   "version": "3.8.5"
  }
 },
 "nbformat": 4,
 "nbformat_minor": 4
}
