{
 "cells": [
  {
   "cell_type": "markdown",
   "metadata": {},
   "source": [
    "# Milestone Project 1: Walkthrough Steps Workbook\n",
    "\n",
    "Below is a set of steps for you to follow to try to create the Tic Tac Toe Milestone Project game!"
   ]
  },
  {
   "cell_type": "markdown",
   "metadata": {},
   "source": [
    "#### Some suggested tools before you get started:\n",
    "To take input from a user:\n",
    "\n",
    "    player1 = input(\"Please pick a marker 'X' or 'O'\")\n",
    "    \n",
    "Note that input() takes in a string. If you need an integer value, use\n",
    "\n",
    "    position = int(input('Please enter a number'))\n",
    "    \n",
    "<br>To clear the screen between moves:\n",
    "\n",
    "    from IPython.display import clear_output\n",
    "    clear_output()\n",
    "    \n",
    "Note that clear_output() will only work in jupyter. To clear the screen in other IDEs, consider:\n",
    "\n",
    "    print('\\n'*100)\n",
    "    \n",
    "This scrolls the previous board up out of view. Now on to the program!"
   ]
  },
  {
   "cell_type": "markdown",
   "metadata": {},
   "source": [
    "**Step 1: Write a function that can print out a board. Set up your board as a list, where each index 1-9 corresponds with a number on a number pad, so you get a 3 by 3 board representation.**"
   ]
  },
  {
   "cell_type": "code",
   "execution_count": 1,
   "metadata": {},
   "outputs": [],
   "source": [
    "from IPython.display import clear_output\n",
    "\n",
    "# display a 3x3 board of tic-tac-toe\n",
    "def display_board(board):\n",
    "    # prepare board and display\n",
    "    dimension = 3\n",
    "    clear_output()\n",
    "    \n",
    "    # start from the bottom row moving up\n",
    "    for x in reversed(range(dimension)):\n",
    "        rows = []\n",
    "        # prepare each row from the board\n",
    "        for y in range(dimension):\n",
    "            rows.append(board[dimension*x + y + 1])\n",
    "        \n",
    "        # display the row then move to the next row\n",
    "        print('| ' + ' | '.join(rows) + ' |')"
   ]
  },
  {
   "cell_type": "markdown",
   "metadata": {},
   "source": [
    "**TEST Step 1:** run your function on a test version of the board list, and make adjustments as necessary"
   ]
  },
  {
   "cell_type": "code",
   "execution_count": 2,
   "metadata": {},
   "outputs": [
    {
     "name": "stdout",
     "output_type": "stream",
     "text": [
      "| X | O | X |\n",
      "| O | X | O |\n",
      "| X | O | X |\n"
     ]
    }
   ],
   "source": [
    "test_board = ['#','X','O','X','O','X','O','X','O','X']\n",
    "# test_board = [' '] * 10\n",
    "display_board(test_board)"
   ]
  },
  {
   "cell_type": "markdown",
   "metadata": {},
   "source": [
    "**Step 2: Write a function that can take in a player input and assign their marker as 'X' or 'O'. Think about using *while* loops to continually ask until you get a correct answer.**"
   ]
  },
  {
   "cell_type": "code",
   "execution_count": 3,
   "metadata": {},
   "outputs": [],
   "source": [
    "# ask player 1 to choose markers for both players\n",
    "def player_input():\n",
    "    # initialize markers\n",
    "    chosen_marker = '-'\n",
    "    valid_markers = ['X', 'O']\n",
    "    \n",
    "    # continue asking while player has not chosen a valid marker\n",
    "    while chosen_marker not in valid_markers:\n",
    "        # ask player for their chosen marker\n",
    "        chosen_marker = input('Player 1, choose a marker (X or O): ')\n",
    "        \n",
    "        # prompt player to choose again when they chose an invalid marker\n",
    "        if chosen_marker not in valid_markers:\n",
    "            print('Invalid marker.')\n",
    "    \n",
    "    valid_markers.remove(chosen_marker)\n",
    "    \n",
    "    player1 = chosen_marker\n",
    "    player2 = valid_markers[0]\n",
    "    \n",
    "    # show players their markers\n",
    "    print(\"Player 1's marker is {}!\".format(player1))\n",
    "    print(\"Player 2's marker is {}!\".format(player2))\n",
    "    \n",
    "    return (player1, player2)"
   ]
  },
  {
   "cell_type": "markdown",
   "metadata": {},
   "source": [
    "**TEST Step 2:** run the function to make sure it returns the desired output"
   ]
  },
  {
   "cell_type": "code",
   "execution_count": 4,
   "metadata": {},
   "outputs": [
    {
     "name": "stdout",
     "output_type": "stream",
     "text": [
      "Player 1, choose a marker (X or O): X\n",
      "Player 1's marker is X!\n",
      "Player 2's marker is O!\n"
     ]
    }
   ],
   "source": [
    "player1, player2 = player_input()"
   ]
  },
  {
   "cell_type": "markdown",
   "metadata": {},
   "source": [
    "**Step 3: Write a function that takes in the board list object, a marker ('X' or 'O'), and a desired position (number 1-9) and assigns it to the board.**"
   ]
  },
  {
   "cell_type": "code",
   "execution_count": 5,
   "metadata": {},
   "outputs": [],
   "source": [
    "def place_marker(board, marker, position):\n",
    "    board[position] = marker\n",
    "    \n",
    "    return board"
   ]
  },
  {
   "cell_type": "markdown",
   "metadata": {},
   "source": [
    "**TEST Step 3:** run the place marker function using test parameters and display the modified board"
   ]
  },
  {
   "cell_type": "code",
   "execution_count": 6,
   "metadata": {},
   "outputs": [
    {
     "name": "stdout",
     "output_type": "stream",
     "text": [
      "| X | O | X |\n",
      "| O |   | O |\n",
      "| X | O | X |\n"
     ]
    }
   ],
   "source": [
    "test_board = place_marker(test_board, ' ', 5)\n",
    "display_board(test_board)"
   ]
  },
  {
   "cell_type": "markdown",
   "metadata": {},
   "source": [
    "**Step 4: Write a function that takes in a board and a mark (X or O) and then checks to see if that mark has won. **"
   ]
  },
  {
   "cell_type": "code",
   "execution_count": 7,
   "metadata": {},
   "outputs": [],
   "source": [
    "def win_check(board, marker):\n",
    "    # define winning positions in the board\n",
    "    winning_indices = {1: [[2, 3], [4, 7], [5, 9]], 2: [[1, 3], [5, 8]], 3: [[1, 2], [5, 7], [6, 9]], \\\n",
    "                      4: [[1, 7], [5, 6]], 5: [[4, 6], [2, 8], [3, 7], [1, 9]], 6: [[4, 5], [3, 9]], \\\n",
    "                      7: [[1, 4], [8, 9], [3, 5]], 8: [[7, 9], [2, 5]], 9: [[7, 8], [3, 6], [1, 5]]}\n",
    "    # count the number of markers, should be 3 to win\n",
    "    winning_counter = 1\n",
    "    \n",
    "    # check through all winning positions\n",
    "    for index1 in winning_indices:\n",
    "        # if marker is in the position, proceed\n",
    "        if board[index1] == marker:\n",
    "            # check through the rest of related positions of the current position\n",
    "            for related_indices in winning_indices[index1]:\n",
    "                for index2 in related_indices:\n",
    "                    # if marker is found, add to counter\n",
    "                    if board[index2] == marker:\n",
    "                        winning_counter += 1\n",
    "                # if counter is 3 at the end, then winner\n",
    "                if winning_counter == 3:\n",
    "                    return True\n",
    "                # repeat to check for other indices\n",
    "                else:\n",
    "                    winning_counter = 1\n",
    "    \n",
    "    # winning position not found\n",
    "    return False"
   ]
  },
  {
   "cell_type": "markdown",
   "metadata": {},
   "source": [
    "**TEST Step 4:** run the win_check function against our test_board - it should return True"
   ]
  },
  {
   "cell_type": "code",
   "execution_count": 8,
   "metadata": {},
   "outputs": [
    {
     "data": {
      "text/plain": [
       "False"
      ]
     },
     "execution_count": 8,
     "metadata": {},
     "output_type": "execute_result"
    }
   ],
   "source": [
    "win_check(test_board, 'X')"
   ]
  },
  {
   "cell_type": "markdown",
   "metadata": {},
   "source": [
    "**Step 5: Write a function that uses the random module to randomly decide which player goes first. You may want to lookup random.randint() Return a string of which player went first.**"
   ]
  },
  {
   "cell_type": "code",
   "execution_count": 9,
   "metadata": {},
   "outputs": [],
   "source": [
    "import random\n",
    "\n",
    "def choose_first():\n",
    "    # choose player to start: 1 or 2\n",
    "    return random.randint(1, 2)"
   ]
  },
  {
   "cell_type": "code",
   "execution_count": 10,
   "metadata": {},
   "outputs": [
    {
     "data": {
      "text/plain": [
       "2"
      ]
     },
     "execution_count": 10,
     "metadata": {},
     "output_type": "execute_result"
    }
   ],
   "source": [
    "choose_first()"
   ]
  },
  {
   "cell_type": "markdown",
   "metadata": {},
   "source": [
    "**Step 6: Write a function that returns a boolean indicating whether a space on the board is freely available.**"
   ]
  },
  {
   "cell_type": "code",
   "execution_count": 11,
   "metadata": {},
   "outputs": [],
   "source": [
    "def space_check(board, position):\n",
    "    return board[position] not in ['X', 'O']"
   ]
  },
  {
   "cell_type": "code",
   "execution_count": 12,
   "metadata": {},
   "outputs": [
    {
     "data": {
      "text/plain": [
       "True"
      ]
     },
     "execution_count": 12,
     "metadata": {},
     "output_type": "execute_result"
    }
   ],
   "source": [
    "space_check(test_board, 5)"
   ]
  },
  {
   "cell_type": "markdown",
   "metadata": {},
   "source": [
    "**Step 7: Write a function that checks if the board is full and returns a boolean value. True if full, False otherwise.**"
   ]
  },
  {
   "cell_type": "code",
   "execution_count": 13,
   "metadata": {},
   "outputs": [],
   "source": [
    "def full_board_check(board):\n",
    "    return sum([ 1 for cell in board if cell in ['X', 'O'] ]) == 9"
   ]
  },
  {
   "cell_type": "code",
   "execution_count": 14,
   "metadata": {},
   "outputs": [
    {
     "data": {
      "text/plain": [
       "False"
      ]
     },
     "execution_count": 14,
     "metadata": {},
     "output_type": "execute_result"
    }
   ],
   "source": [
    "full_board_check(test_board)"
   ]
  },
  {
   "cell_type": "markdown",
   "metadata": {},
   "source": [
    "**Step 8: Write a function that asks for a player's next position (as a number 1-9) and then uses the function from step 6 to check if it's a free position. If it is, then return the position for later use.**"
   ]
  },
  {
   "cell_type": "code",
   "execution_count": 15,
   "metadata": {},
   "outputs": [],
   "source": [
    "def player_choice(board):\n",
    "    # define variables\n",
    "    chosen_flag = False\n",
    "    chosen_position = 0\n",
    "    \n",
    "    # continue asking until chosen position is valid\n",
    "    while not chosen_flag:\n",
    "        # ask player to input position between 1 and 9\n",
    "        chosen_position = input('Choose your position (1 - 9): ')\n",
    "        \n",
    "        # check if position is digit\n",
    "        if chosen_position.isdigit():\n",
    "            # typecast the text input to integer\n",
    "            chosen_position = int(chosen_position)\n",
    "            \n",
    "            # check if position is within range\n",
    "            if chosen_position not in range(1, 10):\n",
    "                # if not, set flag to false and show error message\n",
    "                chosen_flag = False\n",
    "                print('Position not valid.')\n",
    "            else:\n",
    "                # check if position is still available\n",
    "                if space_check(board, chosen_position):\n",
    "                    # if yes, show success message and return position\n",
    "                    print('Position chosen: {}'.format(chosen_position))\n",
    "                    return chosen_position\n",
    "                else:\n",
    "                    # if not, set flag to false and show error message\n",
    "                    chosen_flag = False\n",
    "                    print('Position not available.')\n",
    "        else:\n",
    "            # if not digit, set flag to false and show error message\n",
    "            chosen_flag = False\n",
    "            print('Position not valid.')"
   ]
  },
  {
   "cell_type": "code",
   "execution_count": 16,
   "metadata": {},
   "outputs": [
    {
     "name": "stdout",
     "output_type": "stream",
     "text": [
      "Choose your position (1 - 9): 5\n",
      "Position chosen: 5\n"
     ]
    },
    {
     "data": {
      "text/plain": [
       "5"
      ]
     },
     "execution_count": 16,
     "metadata": {},
     "output_type": "execute_result"
    }
   ],
   "source": [
    "player_choice(test_board)"
   ]
  },
  {
   "cell_type": "markdown",
   "metadata": {},
   "source": [
    "**Step 9: Write a function that asks the player if they want to play again and returns a boolean True if they do want to play again.**"
   ]
  },
  {
   "cell_type": "code",
   "execution_count": 17,
   "metadata": {},
   "outputs": [],
   "source": [
    "def replay():\n",
    "    # define variables\n",
    "    continue_flag = False\n",
    "    \n",
    "    # continue ask while choice is invalid\n",
    "    while not continue_flag:\n",
    "        # ask player to continue playing Y or not N\n",
    "        continue_playing = input('Do you want to continue playing? Y or N: ')\n",
    "        \n",
    "        # check if choice is valid Y or N\n",
    "        if continue_playing not in ['Y', 'N']:\n",
    "            # if not, choose again\n",
    "            print('Choice invalid.')\n",
    "        else:\n",
    "            # if yes, break out of the loop\n",
    "            continue_flag = True\n",
    "    \n",
    "    # return choice as boolean: Y = True or N = False\n",
    "    return continue_playing == 'Y'"
   ]
  },
  {
   "cell_type": "code",
   "execution_count": 18,
   "metadata": {},
   "outputs": [
    {
     "name": "stdout",
     "output_type": "stream",
     "text": [
      "Do you want to continue playing? Y or N: Y\n"
     ]
    },
    {
     "data": {
      "text/plain": [
       "True"
      ]
     },
     "execution_count": 18,
     "metadata": {},
     "output_type": "execute_result"
    }
   ],
   "source": [
    "replay()"
   ]
  },
  {
   "cell_type": "markdown",
   "metadata": {
    "collapsed": true
   },
   "source": [
    "**Step 10: Here comes the hard part! Use while loops and the functions you've made to run the game!**"
   ]
  },
  {
   "cell_type": "code",
   "execution_count": 19,
   "metadata": {},
   "outputs": [
    {
     "name": "stdout",
     "output_type": "stream",
     "text": [
      "| X |   | O |\n",
      "| X | O |   |\n",
      "| X |   | O |\n",
      "Player 1 (X) wins!\n",
      "Do you want to continue playing? Y or N: N\n",
      "Thanks for playing!\n"
     ]
    }
   ],
   "source": [
    "print('Welcome to Tic-Tac-Toe!')\n",
    "\n",
    "# play until exit game\n",
    "while True:\n",
    "    # set board, player, and other variables\n",
    "    game_on = True\n",
    "    board = [' '] * 10\n",
    "    player = {0: None, 1: {'name': '1', 'marker': '-', 'position': 0}, 2: {'name': '2', 'marker': '-', 'position': 0}}\n",
    "    \n",
    "    # choose marker for both players\n",
    "    player[1]['marker'], player[2]['marker'] = player_input()\n",
    "    \n",
    "    # display empty board\n",
    "    display_board(board)\n",
    "    \n",
    "    # choose whose player to go first\n",
    "    if choose_first() == 1:\n",
    "        first = 1\n",
    "        second = 2\n",
    "    else:\n",
    "        first = 2\n",
    "        second = 1\n",
    "    \n",
    "    print('Player {} goes first'.format(first))\n",
    "    \n",
    "    # play a match until there's a winner or the board is full\n",
    "    while game_on:\n",
    "        # play turns between both players\n",
    "        for num in [first, second]:\n",
    "            print(\"Player {}'s turn ({})\".format(num, player[num]['marker']))\n",
    "            \n",
    "            # ask player of the position to place their marker\n",
    "            player[num]['position'] = player_choice(board)\n",
    "            \n",
    "            # place marker on the position and return board state\n",
    "            board = place_marker(board, player[num]['marker'], player[num]['position'])\n",
    "            \n",
    "            # show current board state\n",
    "            display_board(board)\n",
    "            \n",
    "            # check if player wins and if yes, exit match\n",
    "            if win_check(board, player[num]['marker']):\n",
    "                print('Player {} ({}) wins!'.format(player[num]['name'], player[num]['marker']))\n",
    "                game_on = False\n",
    "                break\n",
    "            \n",
    "            # check if board is full and if yes, exit match\n",
    "            if full_board_check(board):\n",
    "                print('Full board!')\n",
    "                game_on = False\n",
    "                break\n",
    "    \n",
    "    # ask to continue playing or exit game\n",
    "    if not replay():\n",
    "        print('Thanks for playing!')\n",
    "        break"
   ]
  },
  {
   "cell_type": "markdown",
   "metadata": {
    "collapsed": true
   },
   "source": [
    "## Good Job!"
   ]
  }
 ],
 "metadata": {
  "kernelspec": {
   "display_name": "Python 3",
   "language": "python",
   "name": "python3"
  },
  "language_info": {
   "codemirror_mode": {
    "name": "ipython",
    "version": 3
   },
   "file_extension": ".py",
   "mimetype": "text/x-python",
   "name": "python",
   "nbconvert_exporter": "python",
   "pygments_lexer": "ipython3",
   "version": "3.8.5"
  }
 },
 "nbformat": 4,
 "nbformat_minor": 1
}
